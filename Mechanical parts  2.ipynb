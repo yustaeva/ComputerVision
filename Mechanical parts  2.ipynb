{
 "cells": [
  {
   "cell_type": "markdown",
   "metadata": {
    "id": "3eeAT_2HPigg"
   },
   "source": [
    "# Mechanical parts recognition"
   ]
  },
  {
   "cell_type": "markdown",
   "metadata": {},
   "source": [
    "Author: Y. Staeva\n",
    "\n",
    "This project is focused on Image classification for the purpose of Mechanical parts recognition.\n",
    "The following script contains the image data preprocessing and the development of a Deep Learning Convolutional Neural Network. The model evaluation is provided in a second script."
   ]
  },
  {
   "cell_type": "code",
   "execution_count": 1,
   "metadata": {
    "executionInfo": {
     "elapsed": 2842,
     "status": "ok",
     "timestamp": 1638351222346,
     "user": {
      "displayName": "Juliana Staeva",
      "photoUrl": "https://lh3.googleusercontent.com/a-/AOh14Gh8Y1EuRc8hProvVhr-EjolSH8VhIGUeBKBEhva8w=s64",
      "userId": "02722631212774841828"
     },
     "user_tz": -120
    },
    "id": "YaLEkenxPggy"
   },
   "outputs": [
    {
     "name": "stderr",
     "output_type": "stream",
     "text": [
      "2022-01-03 11:05:06.130115: I tensorflow/stream_executor/platform/default/dso_loader.cc:49] Successfully opened dynamic library libcudart.so.10.1\n"
     ]
    }
   ],
   "source": [
    "import tensorflow as tf\n",
    "from tensorflow.keras.models import Sequential\n",
    "from tensorflow.keras.layers import Dense, Flatten, InputLayer, BatchNormalization, Dropout, Conv2D, MaxPool2D, GaussianNoise\n",
    "from tensorflow.keras.optimizers import Adam\n",
    "from tensorflow.keras.preprocessing.image import ImageDataGenerator\n",
    "from tensorflow.keras.regularizers import l2\n",
    "from tensorflow.keras.callbacks import EarlyStopping, ModelCheckpoint"
   ]
  },
  {
   "cell_type": "markdown",
   "metadata": {
    "id": "HaBZF2jsXaAu"
   },
   "source": [
    "### GPU check"
   ]
  },
  {
   "cell_type": "code",
   "execution_count": 2,
   "metadata": {
    "colab": {
     "base_uri": "https://localhost:8080/"
    },
    "executionInfo": {
     "elapsed": 216,
     "status": "ok",
     "timestamp": 1638351224402,
     "user": {
      "displayName": "Juliana Staeva",
      "photoUrl": "https://lh3.googleusercontent.com/a-/AOh14Gh8Y1EuRc8hProvVhr-EjolSH8VhIGUeBKBEhva8w=s64",
      "userId": "02722631212774841828"
     },
     "user_tz": -120
    },
    "id": "fh9ovACWPzTi",
    "outputId": "e65f6ee2-0446-4f11-e06f-9f299b5575b7"
   },
   "outputs": [
    {
     "name": "stdout",
     "output_type": "stream",
     "text": [
      "Num GPU available:  1\n"
     ]
    },
    {
     "name": "stderr",
     "output_type": "stream",
     "text": [
      "2022-01-03 11:05:07.523560: I tensorflow/compiler/jit/xla_cpu_device.cc:41] Not creating XLA devices, tf_xla_enable_xla_devices not set\n",
      "2022-01-03 11:05:07.524159: I tensorflow/stream_executor/platform/default/dso_loader.cc:49] Successfully opened dynamic library libcuda.so.1\n",
      "2022-01-03 11:05:07.583293: I tensorflow/stream_executor/cuda/cuda_gpu_executor.cc:941] successful NUMA node read from SysFS had negative value (-1), but there must be at least one NUMA node, so returning NUMA node zero\n",
      "2022-01-03 11:05:07.583765: I tensorflow/core/common_runtime/gpu/gpu_device.cc:1720] Found device 0 with properties: \n",
      "pciBusID: 0000:01:00.0 name: GeForce GTX 1050 computeCapability: 6.1\n",
      "coreClock: 1.493GHz coreCount: 5 deviceMemorySize: 3.95GiB deviceMemoryBandwidth: 104.43GiB/s\n",
      "2022-01-03 11:05:07.583806: I tensorflow/stream_executor/platform/default/dso_loader.cc:49] Successfully opened dynamic library libcudart.so.10.1\n",
      "2022-01-03 11:05:07.586713: I tensorflow/stream_executor/platform/default/dso_loader.cc:49] Successfully opened dynamic library libcublas.so.10\n",
      "2022-01-03 11:05:07.586788: I tensorflow/stream_executor/platform/default/dso_loader.cc:49] Successfully opened dynamic library libcublasLt.so.10\n",
      "2022-01-03 11:05:07.589317: I tensorflow/stream_executor/platform/default/dso_loader.cc:49] Successfully opened dynamic library libcufft.so.10\n",
      "2022-01-03 11:05:07.589857: I tensorflow/stream_executor/platform/default/dso_loader.cc:49] Successfully opened dynamic library libcurand.so.10\n",
      "2022-01-03 11:05:07.593576: I tensorflow/stream_executor/platform/default/dso_loader.cc:49] Successfully opened dynamic library libcusolver.so.10\n",
      "2022-01-03 11:05:07.595728: I tensorflow/stream_executor/platform/default/dso_loader.cc:49] Successfully opened dynamic library libcusparse.so.10\n",
      "2022-01-03 11:05:07.603852: I tensorflow/stream_executor/platform/default/dso_loader.cc:49] Successfully opened dynamic library libcudnn.so.7\n",
      "2022-01-03 11:05:07.604091: I tensorflow/stream_executor/cuda/cuda_gpu_executor.cc:941] successful NUMA node read from SysFS had negative value (-1), but there must be at least one NUMA node, so returning NUMA node zero\n",
      "2022-01-03 11:05:07.604837: I tensorflow/stream_executor/cuda/cuda_gpu_executor.cc:941] successful NUMA node read from SysFS had negative value (-1), but there must be at least one NUMA node, so returning NUMA node zero\n",
      "2022-01-03 11:05:07.605385: I tensorflow/core/common_runtime/gpu/gpu_device.cc:1862] Adding visible gpu devices: 0\n"
     ]
    }
   ],
   "source": [
    "physical_devices = tf.config.experimental.list_physical_devices('GPU')\n",
    "print(\"Num GPU available: \", len(physical_devices))\n",
    "tf.config.experimental.set_memory_growth(physical_devices[0], True)"
   ]
  },
  {
   "cell_type": "markdown",
   "metadata": {
    "id": "dPQppG86XdIb"
   },
   "source": [
    "### Read data"
   ]
  },
  {
   "cell_type": "code",
   "execution_count": 3,
   "metadata": {
    "colab": {
     "base_uri": "https://localhost:8080/"
    },
    "executionInfo": {
     "elapsed": 334,
     "status": "ok",
     "timestamp": 1638351225824,
     "user": {
      "displayName": "Juliana Staeva",
      "photoUrl": "https://lh3.googleusercontent.com/a-/AOh14Gh8Y1EuRc8hProvVhr-EjolSH8VhIGUeBKBEhva8w=s64",
      "userId": "02722631212774841828"
     },
     "user_tz": -120
    },
    "id": "ZEzY1GCiP-as",
    "outputId": "0b74ef75-b72a-4e3b-8d16-39ae5d8b8b3c"
   },
   "outputs": [
    {
     "name": "stdout",
     "output_type": "stream",
     "text": [
      "Found 5403 images belonging to 4 classes.\n"
     ]
    }
   ],
   "source": [
    "imagegen_train = ImageDataGenerator(featurewise_center=False, samplewise_center=False,\n",
    "    featurewise_std_normalization=False, samplewise_std_normalization=False,\n",
    "    zca_whitening=False, zca_epsilon=1e-06, rotation_range=0, width_shift_range=0.0,\n",
    "    height_shift_range=0.0, brightness_range=None, shear_range=0.0, zoom_range=0.0,\n",
    "    channel_shift_range=0.0, fill_mode='nearest', cval=0.0,\n",
    "    horizontal_flip=False, vertical_flip=False, rescale= 1/255,\n",
    "    preprocessing_function=None, data_format='channels_last', validation_split=0.0, dtype=None)\n",
    "images = imagegen_train.flow_from_directory(\"/home/juliana/Документи/Zusatz - Mechanical parts/MECHANICAL_PARTS/training-parts\",\n",
    "                                           class_mode = \"categorical\",\n",
    "                                           shuffle = False,\n",
    "                                           batch_size = 70,\n",
    "                                           target_size = (224,224))"
   ]
  },
  {
   "cell_type": "code",
   "execution_count": 4,
   "metadata": {
    "colab": {
     "base_uri": "https://localhost:8080/"
    },
    "executionInfo": {
     "elapsed": 245,
     "status": "ok",
     "timestamp": 1638351230274,
     "user": {
      "displayName": "Juliana Staeva",
      "photoUrl": "https://lh3.googleusercontent.com/a-/AOh14Gh8Y1EuRc8hProvVhr-EjolSH8VhIGUeBKBEhva8w=s64",
      "userId": "02722631212774841828"
     },
     "user_tz": -120
    },
    "id": "Gz_oIH0hQd4u",
    "outputId": "55aaa5e6-cd51-4f3c-c8e5-4f86fcd3b70e"
   },
   "outputs": [
    {
     "name": "stdout",
     "output_type": "stream",
     "text": [
      "Found 1524 images belonging to 4 classes.\n"
     ]
    }
   ],
   "source": [
    "imagegen_val = ImageDataGenerator(rescale= 1/255)\n",
    "images_val = imagegen_val.flow_from_directory(\"/home/juliana/Документи/Zusatz - Mechanical parts/MECHANICAL_PARTS/validation-parts\",\n",
    "                                               class_mode = \"categorical\",\n",
    "                                               shuffle = False,\n",
    "                                               batch_size = 70,\n",
    "                                               target_size = (224,224))"
   ]
  },
  {
   "cell_type": "markdown",
   "metadata": {
    "id": "eTR7eE8yXjXC"
   },
   "source": [
    "### Check image shape and type"
   ]
  },
  {
   "cell_type": "code",
   "execution_count": null,
   "metadata": {
    "colab": {
     "base_uri": "https://localhost:8080/"
    },
    "executionInfo": {
     "elapsed": 959,
     "status": "ok",
     "timestamp": 1638351159155,
     "user": {
      "displayName": "Juliana Staeva",
      "photoUrl": "https://lh3.googleusercontent.com/a-/AOh14Gh8Y1EuRc8hProvVhr-EjolSH8VhIGUeBKBEhva8w=s64",
      "userId": "02722631212774841828"
     },
     "user_tz": -120
    },
    "id": "mXeaQKD6VWS3",
    "outputId": "cf198021-2203-490c-b6d2-8a758ef881e2"
   },
   "outputs": [],
   "source": [
    "import cv2 as cv\n",
    "test = cv.imread(\"/content/drive/MyDrive/MECHANICAL_PARTS/testing-parts/bolt/00_09_0101_0100_0400_10.png\")\n",
    "test.shape"
   ]
  },
  {
   "cell_type": "markdown",
   "metadata": {
    "id": "G1FhEyG6Xovh"
   },
   "source": [
    "### Build model"
   ]
  },
  {
   "cell_type": "code",
   "execution_count": 5,
   "metadata": {
    "executionInfo": {
     "elapsed": 207,
     "status": "ok",
     "timestamp": 1638351234911,
     "user": {
      "displayName": "Juliana Staeva",
      "photoUrl": "https://lh3.googleusercontent.com/a-/AOh14Gh8Y1EuRc8hProvVhr-EjolSH8VhIGUeBKBEhva8w=s64",
      "userId": "02722631212774841828"
     },
     "user_tz": -120
    },
    "id": "4FZ4MHOKQ0xw"
   },
   "outputs": [
    {
     "name": "stderr",
     "output_type": "stream",
     "text": [
      "2022-01-03 11:05:13.190439: I tensorflow/core/platform/cpu_feature_guard.cc:142] This TensorFlow binary is optimized with oneAPI Deep Neural Network Library (oneDNN) to use the following CPU instructions in performance-critical operations:  SSE4.1 SSE4.2 AVX AVX2 FMA\n",
      "To enable them in other operations, rebuild TensorFlow with the appropriate compiler flags.\n",
      "2022-01-03 11:05:13.190766: I tensorflow/stream_executor/cuda/cuda_gpu_executor.cc:941] successful NUMA node read from SysFS had negative value (-1), but there must be at least one NUMA node, so returning NUMA node zero\n",
      "2022-01-03 11:05:13.191079: I tensorflow/core/common_runtime/gpu/gpu_device.cc:1720] Found device 0 with properties: \n",
      "pciBusID: 0000:01:00.0 name: GeForce GTX 1050 computeCapability: 6.1\n",
      "coreClock: 1.493GHz coreCount: 5 deviceMemorySize: 3.95GiB deviceMemoryBandwidth: 104.43GiB/s\n",
      "2022-01-03 11:05:13.191110: I tensorflow/stream_executor/platform/default/dso_loader.cc:49] Successfully opened dynamic library libcudart.so.10.1\n",
      "2022-01-03 11:05:13.191146: I tensorflow/stream_executor/platform/default/dso_loader.cc:49] Successfully opened dynamic library libcublas.so.10\n",
      "2022-01-03 11:05:13.191159: I tensorflow/stream_executor/platform/default/dso_loader.cc:49] Successfully opened dynamic library libcublasLt.so.10\n",
      "2022-01-03 11:05:13.191189: I tensorflow/stream_executor/platform/default/dso_loader.cc:49] Successfully opened dynamic library libcufft.so.10\n",
      "2022-01-03 11:05:13.191204: I tensorflow/stream_executor/platform/default/dso_loader.cc:49] Successfully opened dynamic library libcurand.so.10\n",
      "2022-01-03 11:05:13.191220: I tensorflow/stream_executor/platform/default/dso_loader.cc:49] Successfully opened dynamic library libcusolver.so.10\n",
      "2022-01-03 11:05:13.191231: I tensorflow/stream_executor/platform/default/dso_loader.cc:49] Successfully opened dynamic library libcusparse.so.10\n",
      "2022-01-03 11:05:13.191257: I tensorflow/stream_executor/platform/default/dso_loader.cc:49] Successfully opened dynamic library libcudnn.so.7\n",
      "2022-01-03 11:05:13.191318: I tensorflow/stream_executor/cuda/cuda_gpu_executor.cc:941] successful NUMA node read from SysFS had negative value (-1), but there must be at least one NUMA node, so returning NUMA node zero\n",
      "2022-01-03 11:05:13.191611: I tensorflow/stream_executor/cuda/cuda_gpu_executor.cc:941] successful NUMA node read from SysFS had negative value (-1), but there must be at least one NUMA node, so returning NUMA node zero\n",
      "2022-01-03 11:05:13.191807: I tensorflow/core/common_runtime/gpu/gpu_device.cc:1862] Adding visible gpu devices: 0\n",
      "2022-01-03 11:05:13.191835: I tensorflow/stream_executor/platform/default/dso_loader.cc:49] Successfully opened dynamic library libcudart.so.10.1\n",
      "2022-01-03 11:05:13.549008: I tensorflow/core/common_runtime/gpu/gpu_device.cc:1261] Device interconnect StreamExecutor with strength 1 edge matrix:\n",
      "2022-01-03 11:05:13.549033: I tensorflow/core/common_runtime/gpu/gpu_device.cc:1267]      0 \n",
      "2022-01-03 11:05:13.549038: I tensorflow/core/common_runtime/gpu/gpu_device.cc:1280] 0:   N \n",
      "2022-01-03 11:05:13.549178: I tensorflow/stream_executor/cuda/cuda_gpu_executor.cc:941] successful NUMA node read from SysFS had negative value (-1), but there must be at least one NUMA node, so returning NUMA node zero\n",
      "2022-01-03 11:05:13.549433: I tensorflow/stream_executor/cuda/cuda_gpu_executor.cc:941] successful NUMA node read from SysFS had negative value (-1), but there must be at least one NUMA node, so returning NUMA node zero\n",
      "2022-01-03 11:05:13.549645: I tensorflow/stream_executor/cuda/cuda_gpu_executor.cc:941] successful NUMA node read from SysFS had negative value (-1), but there must be at least one NUMA node, so returning NUMA node zero\n",
      "2022-01-03 11:05:13.549834: I tensorflow/core/common_runtime/gpu/gpu_device.cc:1406] Created TensorFlow device (/job:localhost/replica:0/task:0/device:GPU:0 with 3261 MB memory) -> physical GPU (device: 0, name: GeForce GTX 1050, pci bus id: 0000:01:00.0, compute capability: 6.1)\n",
      "2022-01-03 11:05:13.550042: I tensorflow/compiler/jit/xla_gpu_device.cc:99] Not creating XLA devices, tf_xla_enable_xla_devices not set\n"
     ]
    }
   ],
   "source": [
    "cnn = Sequential([\n",
    "                  InputLayer(input_shape=(224,224,3)),\n",
    "                  Conv2D(filters = 15, kernel_size = (3,3), padding = 'valid', activation = 'relu', kernel_regularizer = l2(0.0005),strides=(2,2)),\n",
    "                  MaxPool2D(pool_size=(3,3)),\n",
    "                  BatchNormalization(),\n",
    "                  Flatten(),\n",
    "                  GaussianNoise(0.001),\n",
    "                  Dense(units = 20, activation='relu', kernel_regularizer = l2(0.0005)),\n",
    "                  Dropout(rate = 0.2),\n",
    "                  Dense(units = 10, activation = 'relu', kernel_regularizer = l2(0.0005)),\n",
    "                  Dropout(rate = 0.2),\n",
    "                  Dense(units = 4, activation = 'softmax')\n",
    "])"
   ]
  },
  {
   "cell_type": "code",
   "execution_count": 6,
   "metadata": {
    "colab": {
     "base_uri": "https://localhost:8080/"
    },
    "executionInfo": {
     "elapsed": 242,
     "status": "ok",
     "timestamp": 1638351241512,
     "user": {
      "displayName": "Juliana Staeva",
      "photoUrl": "https://lh3.googleusercontent.com/a-/AOh14Gh8Y1EuRc8hProvVhr-EjolSH8VhIGUeBKBEhva8w=s64",
      "userId": "02722631212774841828"
     },
     "user_tz": -120
    },
    "id": "pBnpPC_GTsjg",
    "outputId": "5657d16f-0d26-4469-9ad2-b4831c99efcc"
   },
   "outputs": [
    {
     "name": "stdout",
     "output_type": "stream",
     "text": [
      "Model: \"sequential\"\n",
      "_________________________________________________________________\n",
      "Layer (type)                 Output Shape              Param #   \n",
      "=================================================================\n",
      "conv2d (Conv2D)              (None, 111, 111, 15)      420       \n",
      "_________________________________________________________________\n",
      "max_pooling2d (MaxPooling2D) (None, 37, 37, 15)        0         \n",
      "_________________________________________________________________\n",
      "batch_normalization (BatchNo (None, 37, 37, 15)        60        \n",
      "_________________________________________________________________\n",
      "flatten (Flatten)            (None, 20535)             0         \n",
      "_________________________________________________________________\n",
      "gaussian_noise (GaussianNois (None, 20535)             0         \n",
      "_________________________________________________________________\n",
      "dense (Dense)                (None, 20)                410720    \n",
      "_________________________________________________________________\n",
      "dropout (Dropout)            (None, 20)                0         \n",
      "_________________________________________________________________\n",
      "dense_1 (Dense)              (None, 10)                210       \n",
      "_________________________________________________________________\n",
      "dropout_1 (Dropout)          (None, 10)                0         \n",
      "_________________________________________________________________\n",
      "dense_2 (Dense)              (None, 4)                 44        \n",
      "=================================================================\n",
      "Total params: 411,454\n",
      "Trainable params: 411,424\n",
      "Non-trainable params: 30\n",
      "_________________________________________________________________\n"
     ]
    }
   ],
   "source": [
    "cnn.summary()"
   ]
  },
  {
   "cell_type": "code",
   "execution_count": 7,
   "metadata": {
    "executionInfo": {
     "elapsed": 219,
     "status": "ok",
     "timestamp": 1638351248187,
     "user": {
      "displayName": "Juliana Staeva",
      "photoUrl": "https://lh3.googleusercontent.com/a-/AOh14Gh8Y1EuRc8hProvVhr-EjolSH8VhIGUeBKBEhva8w=s64",
      "userId": "02722631212774841828"
     },
     "user_tz": -120
    },
    "id": "OK-US_qLTvNc"
   },
   "outputs": [],
   "source": [
    "cnn.compile(loss='categorical_crossentropy', metrics=['accuracy'], optimizer=Adam(learning_rate=0.00007))"
   ]
  },
  {
   "cell_type": "code",
   "execution_count": 8,
   "metadata": {},
   "outputs": [],
   "source": [
    "early_stop = EarlyStopping(monitor='val_accuracy',verbose = 1, patience = 30)\n",
    "model_checkpoint = ModelCheckpoint('best_mech_cnn_2.h5', monitor = 'val_accuracy', verbose = 1, save_best_only = True)"
   ]
  },
  {
   "cell_type": "code",
   "execution_count": 9,
   "metadata": {
    "id": "oTt7pdCwUDY9"
   },
   "outputs": [
    {
     "name": "stderr",
     "output_type": "stream",
     "text": [
      "2022-01-03 11:05:17.768594: I tensorflow/compiler/mlir/mlir_graph_optimization_pass.cc:116] None of the MLIR optimization passes are enabled (registered 2)\n",
      "2022-01-03 11:05:17.787471: I tensorflow/core/platform/profile_utils/cpu_utils.cc:112] CPU Frequency: 2299965000 Hz\n"
     ]
    },
    {
     "name": "stdout",
     "output_type": "stream",
     "text": [
      "Epoch 1/30\n"
     ]
    },
    {
     "name": "stderr",
     "output_type": "stream",
     "text": [
      "2022-01-03 11:05:18.167499: I tensorflow/stream_executor/platform/default/dso_loader.cc:49] Successfully opened dynamic library libcublas.so.10\n",
      "2022-01-03 11:05:18.310784: I tensorflow/stream_executor/platform/default/dso_loader.cc:49] Successfully opened dynamic library libcudnn.so.7\n",
      "2022-01-03 11:05:18.755468: W tensorflow/stream_executor/gpu/asm_compiler.cc:63] Running ptxas --version returned 256\n",
      "2022-01-03 11:05:18.780892: W tensorflow/stream_executor/gpu/redzone_allocator.cc:314] Internal: ptxas exited with non-zero error code 256, output: \n",
      "Relying on driver to perform ptx compilation. \n",
      "Modify $PATH to customize ptxas location.\n",
      "This message will be only logged once.\n"
     ]
    },
    {
     "name": "stdout",
     "output_type": "stream",
     "text": [
      "78/78 [==============================] - 11s 120ms/step - loss: 1.4183 - accuracy: 0.2289 - val_loss: 1.3848 - val_accuracy: 0.2579\n",
      "\n",
      "Epoch 00001: val_accuracy improved from -inf to 0.25787, saving model to best_mech_cnn_2.h5\n",
      "Epoch 2/30\n",
      "78/78 [==============================] - 8s 105ms/step - loss: 1.1018 - accuracy: 0.4412 - val_loss: 1.5075 - val_accuracy: 0.2500\n",
      "\n",
      "Epoch 00002: val_accuracy did not improve from 0.25787\n",
      "Epoch 3/30\n",
      "78/78 [==============================] - 8s 104ms/step - loss: 0.9529 - accuracy: 0.5444 - val_loss: 1.1956 - val_accuracy: 0.4337\n",
      "\n",
      "Epoch 00003: val_accuracy improved from 0.25787 to 0.43373, saving model to best_mech_cnn_2.h5\n",
      "Epoch 4/30\n",
      "78/78 [==============================] - 8s 103ms/step - loss: 0.8685 - accuracy: 0.6196 - val_loss: 1.1439 - val_accuracy: 0.4482\n",
      "\n",
      "Epoch 00004: val_accuracy improved from 0.43373 to 0.44816, saving model to best_mech_cnn_2.h5\n",
      "Epoch 5/30\n",
      "78/78 [==============================] - 8s 103ms/step - loss: 0.7932 - accuracy: 0.6636 - val_loss: 1.0164 - val_accuracy: 0.6726\n",
      "\n",
      "Epoch 00005: val_accuracy improved from 0.44816 to 0.67257, saving model to best_mech_cnn_2.h5\n",
      "Epoch 6/30\n",
      "78/78 [==============================] - 8s 103ms/step - loss: 0.8086 - accuracy: 0.6519 - val_loss: 0.8719 - val_accuracy: 0.7297\n",
      "\n",
      "Epoch 00006: val_accuracy improved from 0.67257 to 0.72966, saving model to best_mech_cnn_2.h5\n",
      "Epoch 7/30\n",
      "78/78 [==============================] - 8s 104ms/step - loss: 0.6569 - accuracy: 0.7334 - val_loss: 0.8278 - val_accuracy: 0.8202\n",
      "\n",
      "Epoch 00007: val_accuracy improved from 0.72966 to 0.82021, saving model to best_mech_cnn_2.h5\n",
      "Epoch 8/30\n",
      "78/78 [==============================] - 8s 103ms/step - loss: 0.6611 - accuracy: 0.7426 - val_loss: 0.6164 - val_accuracy: 0.9193\n",
      "\n",
      "Epoch 00008: val_accuracy improved from 0.82021 to 0.91929, saving model to best_mech_cnn_2.h5\n",
      "Epoch 9/30\n",
      "78/78 [==============================] - 8s 102ms/step - loss: 0.6363 - accuracy: 0.7541 - val_loss: 0.5951 - val_accuracy: 0.8346\n",
      "\n",
      "Epoch 00009: val_accuracy did not improve from 0.91929\n",
      "Epoch 10/30\n",
      "78/78 [==============================] - 8s 103ms/step - loss: 0.5881 - accuracy: 0.7705 - val_loss: 0.5014 - val_accuracy: 0.9219\n",
      "\n",
      "Epoch 00010: val_accuracy improved from 0.91929 to 0.92192, saving model to best_mech_cnn_2.h5\n",
      "Epoch 11/30\n",
      "78/78 [==============================] - 8s 103ms/step - loss: 0.5965 - accuracy: 0.7939 - val_loss: 0.4909 - val_accuracy: 0.9009\n",
      "\n",
      "Epoch 00011: val_accuracy did not improve from 0.92192\n",
      "Epoch 12/30\n",
      "78/78 [==============================] - 8s 103ms/step - loss: 0.5843 - accuracy: 0.8075 - val_loss: 0.5825 - val_accuracy: 0.7986\n",
      "\n",
      "Epoch 00012: val_accuracy did not improve from 0.92192\n",
      "Epoch 13/30\n",
      "78/78 [==============================] - 8s 104ms/step - loss: 0.4831 - accuracy: 0.8477 - val_loss: 0.4889 - val_accuracy: 0.8760\n",
      "\n",
      "Epoch 00013: val_accuracy did not improve from 0.92192\n",
      "Epoch 14/30\n",
      "78/78 [==============================] - 8s 102ms/step - loss: 0.4500 - accuracy: 0.8663 - val_loss: 0.3846 - val_accuracy: 0.9350\n",
      "\n",
      "Epoch 00014: val_accuracy improved from 0.92192 to 0.93504, saving model to best_mech_cnn_2.h5\n",
      "Epoch 15/30\n",
      "78/78 [==============================] - 8s 103ms/step - loss: 0.4143 - accuracy: 0.8841 - val_loss: 0.4361 - val_accuracy: 0.8714\n",
      "\n",
      "Epoch 00015: val_accuracy did not improve from 0.93504\n",
      "Epoch 16/30\n",
      "78/78 [==============================] - 8s 101ms/step - loss: 0.4365 - accuracy: 0.8697 - val_loss: 0.4092 - val_accuracy: 0.9029\n",
      "\n",
      "Epoch 00016: val_accuracy did not improve from 0.93504\n",
      "Epoch 17/30\n",
      "78/78 [==============================] - 8s 102ms/step - loss: 0.4092 - accuracy: 0.8705 - val_loss: 0.2688 - val_accuracy: 0.9429\n",
      "\n",
      "Epoch 00017: val_accuracy improved from 0.93504 to 0.94291, saving model to best_mech_cnn_2.h5\n",
      "Epoch 18/30\n",
      "78/78 [==============================] - 8s 100ms/step - loss: 0.3854 - accuracy: 0.8826 - val_loss: 0.4263 - val_accuracy: 0.8681\n",
      "\n",
      "Epoch 00018: val_accuracy did not improve from 0.94291\n",
      "Epoch 19/30\n",
      "78/78 [==============================] - 8s 102ms/step - loss: 0.3563 - accuracy: 0.8948 - val_loss: 0.2574 - val_accuracy: 0.9541\n",
      "\n",
      "Epoch 00019: val_accuracy improved from 0.94291 to 0.95407, saving model to best_mech_cnn_2.h5\n",
      "Epoch 20/30\n",
      "78/78 [==============================] - 8s 102ms/step - loss: 0.3516 - accuracy: 0.9046 - val_loss: 0.2283 - val_accuracy: 0.9705\n",
      "\n",
      "Epoch 00020: val_accuracy improved from 0.95407 to 0.97047, saving model to best_mech_cnn_2.h5\n",
      "Epoch 21/30\n",
      "78/78 [==============================] - 8s 104ms/step - loss: 0.3370 - accuracy: 0.8994 - val_loss: 0.2178 - val_accuracy: 0.9692\n",
      "\n",
      "Epoch 00021: val_accuracy did not improve from 0.97047\n",
      "Epoch 22/30\n",
      "78/78 [==============================] - 8s 103ms/step - loss: 0.3279 - accuracy: 0.9008 - val_loss: 0.4991 - val_accuracy: 0.8340\n",
      "\n",
      "Epoch 00022: val_accuracy did not improve from 0.97047\n",
      "Epoch 23/30\n",
      "78/78 [==============================] - 8s 103ms/step - loss: 0.3142 - accuracy: 0.9056 - val_loss: 0.4441 - val_accuracy: 0.8583\n",
      "\n",
      "Epoch 00023: val_accuracy did not improve from 0.97047\n",
      "Epoch 24/30\n",
      "78/78 [==============================] - 8s 101ms/step - loss: 0.2962 - accuracy: 0.9116 - val_loss: 0.2030 - val_accuracy: 0.9705\n",
      "\n",
      "Epoch 00024: val_accuracy did not improve from 0.97047\n",
      "Epoch 25/30\n",
      "78/78 [==============================] - 8s 104ms/step - loss: 0.3179 - accuracy: 0.8990 - val_loss: 0.2867 - val_accuracy: 0.9140\n",
      "\n",
      "Epoch 00025: val_accuracy did not improve from 0.97047\n",
      "Epoch 26/30\n",
      "78/78 [==============================] - 8s 103ms/step - loss: 0.2795 - accuracy: 0.9087 - val_loss: 0.5134 - val_accuracy: 0.8084\n",
      "\n",
      "Epoch 00026: val_accuracy did not improve from 0.97047\n",
      "Epoch 27/30\n",
      "78/78 [==============================] - 8s 104ms/step - loss: 0.2733 - accuracy: 0.9139 - val_loss: 0.3309 - val_accuracy: 0.9068\n",
      "\n",
      "Epoch 00027: val_accuracy did not improve from 0.97047\n",
      "Epoch 28/30\n",
      "78/78 [==============================] - 8s 103ms/step - loss: 0.2812 - accuracy: 0.9144 - val_loss: 0.1828 - val_accuracy: 0.9665\n",
      "\n",
      "Epoch 00028: val_accuracy did not improve from 0.97047\n",
      "Epoch 29/30\n",
      "78/78 [==============================] - 8s 104ms/step - loss: 0.2453 - accuracy: 0.9238 - val_loss: 0.1411 - val_accuracy: 0.9823\n",
      "\n",
      "Epoch 00029: val_accuracy improved from 0.97047 to 0.98228, saving model to best_mech_cnn_2.h5\n",
      "Epoch 30/30\n",
      "78/78 [==============================] - 8s 104ms/step - loss: 0.2427 - accuracy: 0.9282 - val_loss: 0.2929 - val_accuracy: 0.9094\n",
      "\n",
      "Epoch 00030: val_accuracy did not improve from 0.98228\n"
     ]
    }
   ],
   "source": [
    "r = cnn.fit(images,validation_data = (images_val), batch_size = 70, epochs = 30, callbacks=[early_stop, model_checkpoint])"
   ]
  },
  {
   "cell_type": "markdown",
   "metadata": {
    "id": "5U2WqyWMX8rl"
   },
   "source": [
    "### Plot performance"
   ]
  },
  {
   "cell_type": "code",
   "execution_count": 10,
   "metadata": {
    "id": "YUAgHpHCUui7"
   },
   "outputs": [],
   "source": [
    "import matplotlib.pyplot as plt"
   ]
  },
  {
   "cell_type": "code",
   "execution_count": 11,
   "metadata": {
    "id": "t26ZBtzgU296"
   },
   "outputs": [
    {
     "data": {
      "image/png": "[encoded data removed]",
      "text/plain": [
       "<Figure size 432x288 with 1 Axes>"
      ]
     },
     "metadata": {
      "needs_background": "light"
     },
     "output_type": "display_data"
    },
    {
     "data": {
      "image/png": "[encoded data removed]",
      "text/plain": [
       "<Figure size 432x288 with 1 Axes>"
      ]
     },
     "metadata": {
      "needs_background": "light"
     },
     "output_type": "display_data"
    }
   ],
   "source": [
    "#plot the loss\n",
    "plt.plot(r.history['loss'], label='train loss')\n",
    "plt.plot(r.history['val_loss'], label='val loss')\n",
    "plt.legend()\n",
    "plt.show()\n",
    "#plt.savefig('LossVal_loss')\n",
    "\n",
    "#plot the accuracy\n",
    "plt.plot(r.history['accuracy'], label='train acc')\n",
    "plt.plot(r.history['val_accuracy'], label='val acc')\n",
    "plt.legend()\n",
    "plt.show()\n",
    "#plt.savefig('AccVal_acc')"
   ]
  }
 ],
 "metadata": {
  "accelerator": "GPU",
  "colab": {
   "authorship_tag": "ABX9TyNSOXi2LjEDu64iHnPy9Dy8",
   "collapsed_sections": [],
   "mount_file_id": "1TFmXdVWiC_PcGauQBnRh_yCGhvebZxDm",
   "name": "Mechanical parts.ipynb",
   "provenance": []
  },
  "kernelspec": {
   "display_name": "Python 3 (ipykernel)",
   "language": "python",
   "name": "python3"
  },
  "language_info": {
   "codemirror_mode": {
    "name": "ipython",
    "version": 3
   },
   "file_extension": ".py",
   "mimetype": "text/x-python",
   "name": "python",
   "nbconvert_exporter": "python",
   "pygments_lexer": "ipython3",
   "version": "3.9.7"
  }
 },
 "nbformat": 4,
 "nbformat_minor": 1
}
